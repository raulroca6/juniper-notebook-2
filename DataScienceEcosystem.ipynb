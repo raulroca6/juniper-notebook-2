{
 "cells": [
  {
   "cell_type": "markdown",
   "id": "06f5ca66-cdb0-4507-9aaa-d3d9e719d122",
   "metadata": {
    "tags": []
   },
   "source": [
    "# Data Science Tools and Ecosystem"
   ]
  },
  {
   "cell_type": "markdown",
   "id": "d83f38ce-bc50-4f1e-ab86-69538b57090f",
   "metadata": {
    "tags": []
   },
   "source": [
    "## In this notebook, Data Science Tools and Ecosystem are summarized."
   ]
  },
  {
   "cell_type": "markdown",
   "id": "4464574c-5c4f-4243-887e-dd0dd2a757a0",
   "metadata": {
    "tags": []
   },
   "source": [
    "### list data science languages"
   ]
  },
  {
   "cell_type": "markdown",
   "id": "def09358-a4de-4797-a70b-04705d1c63aa",
   "metadata": {
    "tags": []
   },
   "source": [
    "#### Some of the popular languages that Data Scientists use are:"
   ]
  },
  {
   "cell_type": "markdown",
   "id": "9f925612-4abc-4ec8-81d9-63696f5a3c9b",
   "metadata": {
    "jp-MarkdownHeadingCollapsed": true,
    "tags": []
   },
   "source": [
    "1. Python\n",
    "2. R\n",
    "3. SQL"
   ]
  },
  {
   "cell_type": "markdown",
   "id": "3cd4fb05-d4dc-4cd4-891e-f334ccbca5cc",
   "metadata": {
    "tags": []
   },
   "source": [
    "### Some of the commonly used libraries used by Data Scientists include:"
   ]
  },
  {
   "cell_type": "markdown",
   "id": "e1ae9cc9-3f56-44dc-8b9f-27d03b6fe629",
   "metadata": {},
   "source": [
    "1. Pandas\n",
    "2. NumPy\n",
    "3. Matplotlib"
   ]
  },
  {
   "cell_type": "markdown",
   "id": "43d8a1f8-66e5-405b-ae76-30b23e14716f",
   "metadata": {
    "tags": []
   },
   "source": [
    "### Below are a few examples of evaluating arithmetic expressions in Python"
   ]
  },
  {
   "cell_type": "code",
   "execution_count": 22,
   "id": "423ea1b1-200e-438e-900e-c727b9479a81",
   "metadata": {
    "tags": []
   },
   "outputs": [],
   "source": [
    "# This a simple arithmetic expression to mutiply then add integers"
   ]
  },
  {
   "cell_type": "code",
   "execution_count": 23,
   "id": "b0d7ff73-1b3b-45ec-a72e-8846ed9cff20",
   "metadata": {
    "tags": []
   },
   "outputs": [
    {
     "data": {
      "text/plain": [
       "17"
      ]
     },
     "execution_count": 23,
     "metadata": {},
     "output_type": "execute_result"
    }
   ],
   "source": [
    "(3*4)+5"
   ]
  },
  {
   "cell_type": "code",
   "execution_count": 24,
   "id": "039d060f-122f-4837-ab33-214b039e671e",
   "metadata": {
    "tags": []
   },
   "outputs": [],
   "source": [
    "#  This will convert 200 minutes to hours by diving by 60"
   ]
  },
  {
   "cell_type": "code",
   "execution_count": 27,
   "id": "0ac96095-3ee2-4452-9d7a-9345e50e7129",
   "metadata": {
    "tags": []
   },
   "outputs": [
    {
     "data": {
      "text/plain": [
       "3.3333333333333335"
      ]
     },
     "execution_count": 27,
     "metadata": {},
     "output_type": "execute_result"
    }
   ],
   "source": [
    "200 / 60"
   ]
  },
  {
   "cell_type": "markdown",
   "id": "3066f0db-c87c-4d4c-be23-c3c50261ce61",
   "metadata": {
    "tags": []
   },
   "source": [
    "## Author"
   ]
  },
  {
   "cell_type": "markdown",
   "id": "ccc3cd46-b6ab-4013-9377-ff6219ffa5ce",
   "metadata": {},
   "source": [
    "Raul Roca"
   ]
  },
  {
   "cell_type": "code",
   "execution_count": null,
   "id": "c1da4d10-e455-4683-b210-39bc02b1a3ea",
   "metadata": {},
   "outputs": [],
   "source": []
  }
 ],
 "metadata": {
  "kernelspec": {
   "display_name": "Python",
   "language": "python",
   "name": "conda-env-python-py"
  },
  "language_info": {
   "codemirror_mode": {
    "name": "ipython",
    "version": 3
   },
   "file_extension": ".py",
   "mimetype": "text/x-python",
   "name": "python",
   "nbconvert_exporter": "python",
   "pygments_lexer": "ipython3",
   "version": "3.7.12"
  }
 },
 "nbformat": 4,
 "nbformat_minor": 5
}
